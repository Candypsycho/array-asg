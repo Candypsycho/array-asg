{
 "cells": [
  {
   "cell_type": "code",
   "execution_count": 11,
   "id": "43b02bd0-369a-40e7-a047-a1ef359df202",
   "metadata": {},
   "outputs": [
    {
     "name": "stdout",
     "output_type": "stream",
     "text": [
      "True\n"
     ]
    }
   ],
   "source": [
    "#1\n",
    "#time complexity--o(n)\n",
    "#space complexity--o(n)\n",
    "arr = [1, 2, 4, 2, 5, 9]\n",
    "def has_duplicates(arr):\n",
    "    seen = set()\n",
    "    for num in arr:\n",
    "        if num in seen:\n",
    "            return True\n",
    "        seen.add(num)\n",
    "    return False\n",
    "#driver code\n",
    "output = has_duplicates(arr)\n",
    "print(output)\n"
   ]
  },
  {
   "cell_type": "code",
   "execution_count": 13,
   "id": "d80c965c-3f79-46ee-8093-6444bf749c74",
   "metadata": {},
   "outputs": [
    {
     "name": "stdout",
     "output_type": "stream",
     "text": [
      "[5, 6, 7, 1, 2, 3, 4]\n"
     ]
    }
   ],
   "source": [
    "#2\n",
    "#time complexity--o(n)\n",
    "#space complexity----o(1)\n",
    "arr = [1, 2, 3, 4, 5, 6, 7]\n",
    "k = 3\n",
    "\n",
    "def rotate_array(arr, k):\n",
    "    n = len(arr)\n",
    "    k = k % n  # In case k is greater than the array length\n",
    "    return arr[-k:] + arr[:-k]\n",
    "#driver code\n",
    "output = rotate_array(arr, k)\n",
    "print(output)\n"
   ]
  },
  {
   "cell_type": "code",
   "execution_count": 14,
   "id": "58be44bf-5524-435d-a61d-fc65688b872c",
   "metadata": {},
   "outputs": [
    {
     "name": "stdout",
     "output_type": "stream",
     "text": [
      "[12, 9, 7, 5, 4, 2]\n"
     ]
    }
   ],
   "source": [
    "#3\n",
    "#time complexity----o(n/2)\n",
    "#space complexity---o(1)\n",
    "arr = [2, 4, 5, 7, 9, 12]\n",
    "\n",
    "def reverse_array_in_place(arr):\n",
    "    start, end = 0, len(arr) - 1\n",
    "    while start < end:\n",
    "        arr[start], arr[end] = arr[end], arr[start]\n",
    "        start += 1\n",
    "        end -= 1\n",
    "\n",
    "reverse_array_in_place(arr)\n",
    "print(arr)  # Output = [12, 9, 7, 5, 4, 2]\n"
   ]
  },
  {
   "cell_type": "code",
   "execution_count": 15,
   "id": "1e855b3b-bb70-477a-b342-69ae9ffa7422",
   "metadata": {},
   "outputs": [
    {
     "name": "stdout",
     "output_type": "stream",
     "text": [
      "20\n"
     ]
    }
   ],
   "source": [
    "#4\n",
    "#time complexity--o(n)\n",
    "#space complexity---o(1)\n",
    "arr = [10, 5, 20, 8, 15]\n",
    "\n",
    "max_element = max(arr)\n",
    "print(max_element)"
   ]
  },
  {
   "cell_type": "code",
   "execution_count": 16,
   "id": "28c6ac73-8688-46d8-886f-f02100117be0",
   "metadata": {},
   "outputs": [
    {
     "name": "stdout",
     "output_type": "stream",
     "text": [
      "[1, 2, 3, 4, 5]\n"
     ]
    }
   ],
   "source": [
    "#5\n",
    "#time complexity----o(n)\n",
    "#space complexity---o(1)\n",
    "arr = [1, 1, 2, 2, 2, 3, 3, 4, 4, 4, 5, 5]\n",
    "\n",
    "def remove_duplicates_sorted(arr):\n",
    "    if not arr:\n",
    "        return []\n",
    "    write_index = 1\n",
    "    for i in range(1, len(arr)):\n",
    "        if arr[i] != arr[i - 1]:\n",
    "            arr[write_index] = arr[i]\n",
    "            write_index += 1\n",
    "    return arr[:write_index]\n",
    "\n",
    "output = remove_duplicates_sorted(arr)\n",
    "print(output)"
   ]
  },
  {
   "cell_type": "code",
   "execution_count": null,
   "id": "2b1baff9-a78c-4f86-b634-d886e3a5c78e",
   "metadata": {},
   "outputs": [],
   "source": []
  }
 ],
 "metadata": {
  "kernelspec": {
   "display_name": "Python 3 (ipykernel)",
   "language": "python",
   "name": "python3"
  },
  "language_info": {
   "codemirror_mode": {
    "name": "ipython",
    "version": 3
   },
   "file_extension": ".py",
   "mimetype": "text/x-python",
   "name": "python",
   "nbconvert_exporter": "python",
   "pygments_lexer": "ipython3",
   "version": "3.10.8"
  }
 },
 "nbformat": 4,
 "nbformat_minor": 5
}
